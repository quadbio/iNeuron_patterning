{
 "cells": [
  {
   "cell_type": "code",
   "execution_count": null,
   "id": "a6480aea-dff5-4dfd-a311-37620295657d",
   "metadata": {},
   "outputs": [],
   "source": [
    "#download samples: /BSSE_TREUTLEIN/TREUTLEIN/P2794_HSIU-CHUAN/POOL-631"
   ]
  },
  {
   "cell_type": "code",
   "execution_count": 1,
   "id": "7e0c512b-e290-468c-8d00-9fa517cbf5ad",
   "metadata": {},
   "outputs": [
    {
     "name": "stdout",
     "output_type": "stream",
     "text": [
      "Traceback (most recent call last):\n",
      "  File \"/links/groups/treutlein/SCRIPTS/sequencing/get_sequencing_results.py\", line 6, in <module>\n",
      "    import git\n",
      "ModuleNotFoundError: No module named 'git'\n"
     ]
    },
    {
     "ename": "",
     "evalue": "1",
     "output_type": "error",
     "traceback": []
    }
   ],
   "source": [
    "python /links/groups/treutlein/SCRIPTS/sequencing/get_sequencing_results.py -h"
   ]
  },
  {
   "cell_type": "code",
   "execution_count": null,
   "id": "05e7cfd1-e266-4406-ab53-f69595c8fd2c",
   "metadata": {},
   "outputs": [],
   "source": [
    "python /links/groups/treutlein/SCRIPTS/sequencing/get_sequencing_results.py /BSSE_TREUTLEIN/POOL-631"
   ]
  },
  {
   "cell_type": "code",
   "execution_count": 2,
   "id": "a6e346e5-a8dc-4f36-8946-d9c3582e9163",
   "metadata": {},
   "outputs": [
    {
     "name": "stdout",
     "output_type": "stream",
     "text": [
      "(bulk_seq) \n"
     ]
    },
    {
     "ename": "",
     "evalue": "1",
     "output_type": "error",
     "traceback": []
    }
   ],
   "source": [
    "mamba activate bulk_seq"
   ]
  },
  {
   "cell_type": "code",
   "execution_count": 3,
   "id": "813ec46a-f361-43a3-a3d6-b231d66010bc",
   "metadata": {},
   "outputs": [
    {
     "name": "stdout",
     "output_type": "stream",
     "text": [
      "/nas/groups/treutlein/USERS/jjans/mambaforge/envs/bulk_seq/bin/fastp\n",
      "(bulk_seq) \n"
     ]
    },
    {
     "ename": "",
     "evalue": "1",
     "output_type": "error",
     "traceback": []
    }
   ],
   "source": [
    "which fastp"
   ]
  },
  {
   "cell_type": "code",
   "execution_count": 5,
   "id": "8445948a-9b4e-46fc-b2b0-a6704bf7a31c",
   "metadata": {},
   "outputs": [
    {
     "name": "stdout",
     "output_type": "stream",
     "text": [
      "/nas/groups/treutlein/USERS/jjans/mambaforge/envs/bulk_seq/bin/STAR\n",
      "(bulk_seq) \n"
     ]
    },
    {
     "ename": "",
     "evalue": "1",
     "output_type": "error",
     "traceback": []
    }
   ],
   "source": [
    "which STAR"
   ]
  },
  {
   "cell_type": "code",
   "execution_count": 10,
   "id": "f5f7c975-a443-4913-a35d-a30954dabf07",
   "metadata": {},
   "outputs": [
    {
     "name": "stdout",
     "output_type": "stream",
     "text": [
      "\u001b[0m\u001b[01;32m/links/groups/treutlein/DATA/sequencing/20240524_P2794_HSIU-CHUAN/raw/iGABA_pre_24/iGABA_pre_24_S1_L001_R1_001.fastq.gz\u001b[0m\u001b[K\n",
      "\u001b[01;32m/links/groups/treutlein/DATA/sequencing/20240524_P2794_HSIU-CHUAN/raw/iGABA_pre_24/iGABA_pre_24_S2_L002_R1_001.fastq.gz\u001b[0m\u001b[K\n",
      "(bulk_seq) \n"
     ]
    },
    {
     "ename": "",
     "evalue": "1",
     "output_type": "error",
     "traceback": []
    }
   ],
   "source": [
    "ls /links/groups/treutlein/DATA/sequencing/20240524_P2794_HSIU-CHUAN/raw/iGABA_pre_24/*R1*.fastq.gz"
   ]
  },
  {
   "cell_type": "code",
   "execution_count": 14,
   "id": "a19bf4d6-696c-4636-a5fe-855fff38b873",
   "metadata": {},
   "outputs": [
    {
     "name": "stdout",
     "output_type": "stream",
     "text": [
      "\u001b[0m\u001b[01;32mUntitled.ipynb\u001b[0m  \u001b[01;34miGABA_pre_24_S1_L001_R1_001\u001b[0m  \u001b[01;34miGABA_pre_24_S2_L002_R1_001\u001b[0m\n",
      "(bulk_seq) \n"
     ]
    },
    {
     "ename": "",
     "evalue": "1",
     "output_type": "error",
     "traceback": []
    }
   ],
   "source": [
    "ls"
   ]
  },
  {
   "cell_type": "code",
   "execution_count": 18,
   "id": "473d2b49-d819-4322-88d2-0f342600e61f",
   "metadata": {},
   "outputs": [
    {
     "name": "stdout",
     "output_type": "stream",
     "text": [
      "\u001b[0m\u001b[01;32mUntitled.ipynb\u001b[0m  \u001b[01;34miGABA_pre_24\u001b[0m\n",
      "(bulk_seq) \n"
     ]
    },
    {
     "ename": "",
     "evalue": "1",
     "output_type": "error",
     "traceback": []
    }
   ],
   "source": [
    "ls"
   ]
  },
  {
   "cell_type": "code",
   "execution_count": 28,
   "id": "04a6627d-7af4-4d07-b65f-f2bf3d589ee2",
   "metadata": {},
   "outputs": [
    {
     "name": "stdout",
     "output_type": "stream",
     "text": [
      "\u001b[0m\u001b[01;32m/links/groups/treutlein/DATA/sequencing/20240524_P2794_HSIU-CHUAN/raw/iGABA_pre_24/iGABA_pre_24_S1_L001_R1_001.fastq.gz\u001b[0m\u001b[K\n",
      "\u001b[01;32m/links/groups/treutlein/DATA/sequencing/20240524_P2794_HSIU-CHUAN/raw/iGABA_pre_24/iGABA_pre_24_S2_L002_R1_001.fastq.gz\u001b[0m\u001b[K\n",
      "(bulk_seq) \n"
     ]
    },
    {
     "ename": "",
     "evalue": "1",
     "output_type": "error",
     "traceback": []
    }
   ],
   "source": [
    "ls /links/groups/treutlein/DATA/sequencing/20240524_P2794_HSIU-CHUAN/raw/iGABA_pre_24/*R1*.fastq.gz"
   ]
  },
  {
   "cell_type": "code",
   "execution_count": null,
   "id": "83c992d9-8fca-4145-802d-5142f36b140f",
   "metadata": {},
   "outputs": [],
   "source": [
    "export MAXCORES=8\n",
    "\n",
    "ls /links/groups/treutlein/DATA/sequencing/20240524_P2794_HSIU-CHUAN/raw/iGABA_pre_24/*R1*.fastq.gz | parallel -j 15 --plus --rpl '{//} s:_S[0-9]+_L[0-9]+_R1_001.fastq.gz::;s:.*/::' \"\n",
    "    mkdir -p {/}\n",
    "    cd {/}\n",
    "    echo {}\n",
    "    \n",
    "    fastp -i {} -I {= s/_R1_/_R2_/ =} -o {/}/{/.}.clean_R1.fastq.gz -O {/}/{/.}.clean_R2.fastq.gz\n",
    "\" ::: /links/groups/treutlein/DATA/sequencing/20240524_P2794_HSIU-CHUAN/raw/iGABA_pre_24/*R1*.fastq.gz\n"
   ]
  },
  {
   "cell_type": "code",
   "execution_count": 30,
   "id": "a2170121-944f-4565-b017-574725681beb",
   "metadata": {},
   "outputs": [
    {
     "name": "stdout",
     "output_type": "stream",
     "text": [
      "(bulk_seq) \n",
      "Academic tradition requires you to cite works you base your article on.\n",
      "If you use programs that use GNU Parallel to process data for an article in a\n",
      "scientific publication, please cite:\n",
      "\n",
      "  Tange, O. (2024, May 22). GNU Parallel 20240522 ('Tbilisi').\n",
      "  Zenodo. https://doi.org/10.5281/zenodo.11247979\n",
      "\n",
      "This helps funding further development; AND IT WON'T COST YOU A CENT.\n",
      "If you pay 10000 EUR you should feel free to use GNU Parallel without citing.\n",
      "\n",
      "More about funding GNU Parallel and the citation notice:\n",
      "https://www.gnu.org/software/parallel/parallel_design.html#citation-notice\n",
      "\n",
      "To silence this citation notice: run 'parallel --citation' once.\n",
      "\n",
      "Come on: You have run parallel 14 times. Isn't it about time \n",
      "you run 'parallel --citation' once to silence the citation notice?\n",
      "\n",
      "/nas/groups/treutlein/USERS/jjans/analysis/iNeuron_morphogens/revisions/bulk_experiments/iGABA_pre_24\n",
      "/links/groups/treutlein/DATA/sequencing/20240524_P2794_HSIU-CHUAN/raw/iGABA_pre_24/iGABA_pre_24_S1_L001_R1_001.fastq.gz\n",
      "iGABA_pre_24_S1_L001_R1_001\n",
      "/nas/groups/treutlein/USERS/jjans/analysis/iNeuron_morphogens/revisions/bulk_experiments/iGABA_pre_24\n",
      "/links/groups/treutlein/DATA/sequencing/20240524_P2794_HSIU-CHUAN/raw/iGABA_pre_24/iGABA_pre_24_S2_L002_R1_001.fastq.gz\n",
      "iGABA_pre_24_S2_L002_R1_001\n",
      "(bulk_seq) \n"
     ]
    },
    {
     "ename": "",
     "evalue": "1",
     "output_type": "error",
     "traceback": []
    }
   ],
   "source": [
    "export MAXCORES=8\n",
    "ls /links/groups/treutlein/DATA/sequencing/20240524_P2794_HSIU-CHUAN/raw/iGABA_pre_24/*R1*.fastq.gz | parallel -j 15 --plus --rpl '{/..L} s:.fastq.gz::;s:.*/::;' --rpl '{/..} s:.fastq.gz::;s:.*/::;s:_S.*::' \"\n",
    "        mkdir -p {/..}\n",
    "        cd {/..}\n",
    "        echo {}\n",
    "        echo {/..L}\n",
    "\""
   ]
  },
  {
   "cell_type": "raw",
   "id": "daad0541-313a-4d06-9302-c5fbc7dcf1e8",
   "metadata": {
    "collapsed": true,
    "jupyter": {
     "outputs_hidden": true
    },
    "tags": []
   },
   "source": [
    "#OLD\n",
    "export MAXCORES=8\n",
    "\n",
    "ls /links/groups/treutlein/DATA/sequencing/20240524_P2794_HSIU-CHUAN/raw/iGABA_pre_24/*R1*.fastq.gz | parallel -j 15 --plus --rpl '{//} s:_S[0-9]+_L[0-9]+_R1_001.fastq.gz::;s:.*/::' \"\n",
    "    mkdir -p {/}\n",
    "    cd {/}\n",
    "    echo {}\n",
    "    \n",
    "    fastp -i {} -I {= s/_R1_/_R2_/ =} -o {/.}_R1.clean.fastq.gz -O {= s/_R1_/_R2_/;s:.*/:: =}_R2.clean.fastq.gz\n",
    "\" ::: /links/groups/treutlein/DATA/sequencing/20240524_P2794_HSIU-CHUAN/raw/iGABA_pre_24/*R1*.fastq.gz\n"
   ]
  },
  {
   "cell_type": "code",
   "execution_count": 62,
   "id": "974c9a02-a772-4579-aadd-30b800272c4b",
   "metadata": {
    "collapsed": true,
    "jupyter": {
     "outputs_hidden": true
    },
    "tags": []
   },
   "outputs": [
    {
     "name": "stdout",
     "output_type": "stream",
     "text": [
      "(bulk_seq) \n",
      "(bulk_seq) \n",
      "Academic tradition requires you to cite works you base your article on.\n",
      "If you use programs that use GNU Parallel to process data for an article in a\n",
      "scientific publication, please cite:\n",
      "\n",
      "  Tange, O. (2024, May 22). GNU Parallel 20240522 ('Tbilisi').\n",
      "  Zenodo. https://doi.org/10.5281/zenodo.11247979\n",
      "\n",
      "This helps funding further development; AND IT WON'T COST YOU A CENT.\n",
      "If you pay 10000 EUR you should feel free to use GNU Parallel without citing.\n",
      "\n",
      "More about funding GNU Parallel and the citation notice:\n",
      "https://www.gnu.org/software/parallel/parallel_design.html#citation-notice\n",
      "\n",
      "To silence this citation notice: run 'parallel --citation' once.\n",
      "\n",
      "Come on: You have run parallel 22 times. Isn't it about time \n",
      "you run 'parallel --citation' once to silence the citation notice?\n",
      "\n",
      "/nas/groups/treutlein/USERS/jjans/analysis/iNeuron_morphogens/revisions/bulk_experiments/iGABA_pre_24\n",
      "/nas/groups/treutlein/USERS/jjans/analysis/iNeuron_morphogens/revisions/bulk_experiments/iGABA_pre_24\n",
      "(bulk_seq) \n"
     ]
    },
    {
     "ename": "",
     "evalue": "1",
     "output_type": "error",
     "traceback": []
    }
   ],
   "source": [
    "export MAXCORES=8\n",
    "export STARGEN=/local1/sequencing/PUBLIC_DATA/genomes/refdata-cellranger-arc-GRCh38-2020-A-2.0.0/star/\n",
    "ls /links/groups/treutlein/DATA/sequencing/20240524_P2794_HSIU-CHUAN/raw/iGABA_pre_24/*R1*.fastq.gz | parallel -j 15 --plus --rpl '{/..L} s:.fastq.gz::;s:.*/::;s:_R.*::' --rpl '{/..} s:.fastq.gz::;s:.*/::;s:_S.*::' \"\n",
    "        mkdir -p {/..}\n",
    "        cd {/..}\n",
    "        \n",
    "        mkdir -p 00.CLEAN_FQ\n",
    "        fastp -i {} -I {=s/R1/R2/=} -o 00.CLEAN_FQ/{/..L}_R1.clean.fastq.gz -O 00.CLEAN_FQ/{/..L}_R2.clean.fastq.gz -h 00.CLEAN_FQ/{/..L}_fastp.html -j 00.CLEAN_FQ/{/..L}_fastp.json &>> {/..L}_fastp.log\n",
    "        \n",
    "        cat 00.CLEAN_FQ/*_R1.clean.fastq.gz > 00.CLEAN_FQ/{/..}_R1.merged.fastq.gz\n",
    "        cat 00.CLEAN_FQ/*_R2.clean.fastq.gz > 00.CLEAN_FQ/{/..}_R2.merged.fastq.gz\n",
    "       \n",
    "\""
   ]
  }
 ],
 "metadata": {
  "kernelspec": {
   "display_name": "Bash",
   "language": "bash",
   "name": "bash"
  },
  "language_info": {
   "codemirror_mode": "shell",
   "file_extension": ".sh",
   "mimetype": "text/x-sh",
   "name": "bash"
  }
 },
 "nbformat": 4,
 "nbformat_minor": 5
}