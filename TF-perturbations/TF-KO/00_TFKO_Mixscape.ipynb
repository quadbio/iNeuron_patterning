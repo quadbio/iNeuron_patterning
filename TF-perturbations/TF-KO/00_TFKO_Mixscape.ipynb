{
 "cells": [
  {
   "cell_type": "code",
   "execution_count": null,
   "id": "83c6b6db",
   "metadata": {
    "vscode": {
     "languageId": "r"
    }
   },
   "outputs": [],
   "source": [
    "# Mixscape for KO effect analysis\n",
    "# Load packages\n",
    "library(Seurat)\n",
    "library(ggplot2)\n",
    "library(patchwork)\n",
    "library(scales)\n",
    "library(dplyr)\n",
    "library(reshape2)\n"
   ]
  },
  {
   "cell_type": "code",
   "execution_count": null,
   "id": "26d20bbe-00b3-4927-a517-72e9c02fb85b",
   "metadata": {
    "vscode": {
     "languageId": "r"
    }
   },
   "outputs": [],
   "source": [
    "##Read in data\n",
    "seurat <- readRDS('/seurat.rds')\n"
   ]
  },
  {
   "cell_type": "code",
   "execution_count": null,
   "id": "72bb40e4-2478-4f29-afb1-3908d8dbb005",
   "metadata": {
    "vscode": {
     "languageId": "r"
    }
   },
   "outputs": [
    {
     "name": "stderr",
     "output_type": "stream",
     "text": [
      "Processing rep1\n",
      "\n"
     ]
    }
   ],
   "source": [
    "# Calculate perturbation signature (PRTB).\n",
    "seurat <- CalcPerturbSig(\n",
    "  object = seurat, \n",
    "  assay = \"RNA\", \n",
    "  slot = \"data\", \n",
    "  gd.class =\"KO_call\", \n",
    "  nt.cell.class = \"Ctrl\", \n",
    "  reduction = \"pca\", \n",
    "  ndims = 30, \n",
    "  num.neighbors = 20, \n",
    "  new.assay.name = \"PRTB\")\n"
   ]
  },
  {
   "cell_type": "code",
   "execution_count": 6,
   "id": "06106261-8128-4e4c-b67e-00781026ae31",
   "metadata": {
    "collapsed": true,
    "jupyter": {
     "outputs_hidden": true
    },
    "vscode": {
     "languageId": "r"
    }
   },
   "outputs": [
    {
     "name": "stderr",
     "output_type": "stream",
     "text": [
      "Centering data matrix\n",
      "\n",
      "Warning message:\n",
      "“Keys should be one or more alphanumeric characters followed by an underscore, setting key from prtbpca to prtbpca_”\n",
      "prtbpca_ 1 \n",
      "Positive:  NRG1, ADARB2, CNTNAP2, CNTN5, LRP1B, PTPRD, PLCB1, MT-CYB, MT-CO1, FAM155A \n",
      "\t   RIMS2, ROBO1, RBMS3, CTNND2, MT-CO2, CCSER1, GRIK2, KCNIP4, MT-ND1, MT-ND4 \n",
      "\t   MT-ND4L, MT-CO3, ANK2, EPHA6, ZNF804A, NRG3, CTNNA2, MT-ATP6, ADGRL3, NBEA \n",
      "Negative:  RPS19, NNAT, MDK, BEX1, TPT1, HMGN2, ID3, DDIT4, B2M, CDKN1C \n",
      "\t   FTL, TMSB15A, RPS18, HMGB2, SLC22A17, HES4, H2AFZ, BBC3, ISYNA1, HLA-B \n",
      "\t   BTG1, ATF3, RPRM, SNRPB, TEX14, HLA-C, TCEAL2, HMGB1, RPS27L, BAMBI \n",
      "prtbpca_ 2 \n",
      "Positive:  AC109466.1, NNAT, NCAM2, AC008415.1, ATP1B1, PRKG1, GRIK2, CNTNAP2, PLXNA4, KCND2 \n",
      "\t   CPNE4, SST, MSX1, EYA1, B2M, ROBO2, KITLG, THBS1, CADM1, PDE4DIP \n",
      "\t   FHIT, PTPRD, BCHE, ZBTB20, PDE1C, RMST, ZNF536, SRBD1, BTBD3, NRG3 \n",
      "Negative:  KCNIP4, DLC1, NTS, LMO3, PCDH7, SEMA3D, CNTN5, SPOCK1, C1QL1, PPP2R2B \n",
      "\t   SCG2, SLC5A7, SORBS2, SNCA, ECEL1, SEMA6A, PRPH, LMO4, EPHA3, RNF220 \n",
      "\t   HMGCS1, VIM, TMEM97, SLC18A3, LRRTM4, NES, QKI, MTSS1, NRXN3, FDPS \n",
      "prtbpca_ 3 \n",
      "Positive:  PRPH, HMGCS1, NEFM, FDFT1, TUBB2A, ACAT2, MSMO1, TUBA1B, FOS, VIM \n",
      "\t   NEFL, HMGCR, ATP1B1, MVD, SNCG, TM7SF2, INA, CYP51A1, ANXA2, DBI \n",
      "\t   PRKG1, SST, TMEM97, FDPS, SQLE, DHCR24, NSG1, CRABP1, IDI1, PRDX1 \n",
      "Negative:  MT-CO1, MT-ATP6, MT-CO3, MT-ND4L, MTRNR2L12, MT-CYB, MT-ND5, MT-CO2, MT-ND4, MT-ND1 \n",
      "\t   MT-ATP8, CCDC144NL-AS1, MT-ND6, MT-ND2, MAML3, XKR4, FAM155A, FMNL2, DTNA, MBD5 \n",
      "\t   BAZ2B, RMST, RORA, NFAT5, SNHG14, GRIP1, AC025159.1, STXBP5, AUTS2, FTX \n",
      "prtbpca_ 4 \n",
      "Positive:  MT-ATP6, MT-CYB, MT-CO3, MT-CO1, MT-CO2, MT-ND4L, MT-ND5, MTRNR2L12, MT-ND1, MT-ND4 \n",
      "\t   MT-ND2, HMGCS1, MSMO1, EPHA6, MT-ATP8, PCSK1, MVD, FDFT1, ACAT2, HMGCR \n",
      "\t   MEG3, NNAT, ROBO1, CYP51A1, IDI1, SQLE, MT-ND6, SCD, FDPS, ADARB2 \n",
      "Negative:  B2M, HLA-B, CASP3, NES, CREB5, CLIC1, HLA-A, RPS27L, HLA-C, DDIT4 \n",
      "\t   LSAMP, KAZN, VIM, DTNA, AC092691.1, S100A10, EXT1, GULP1, SLC3A2, PERP \n",
      "\t   JUN, PRKG1, PBX3, ENC1, SYN3, PLCL1, YBX3, NPAS3, ANXA5, GADD45A \n",
      "prtbpca_ 5 \n",
      "Positive:  NTS, HMGCS1, ACAT2, FDPS, FDFT1, ERG28, MVD, DHCR24, MSMO1, EBF2 \n",
      "\t   SCD, LHFPL6, CALR, HMGCR, CTNNB1, DHCR7, SIX3, IDI1, DBI, TENM3 \n",
      "\t   GPC5, FASN, RGS16, HSPA5, CHRM2, AC011603.2, KIAA1217, GRIK1, LSS, TUBB4B \n",
      "Negative:  PCDH9, CRABP1, SORBS2, CRABP2, PCDH7, DLC1, ROBO1, IGFBP7, CNTN5, SST \n",
      "\t   SCG2, MEG3, SLC5A7, DGKB, ID4, EEF1A2, AC022433.1, ISL1, PDLIM3, SEMA6D \n",
      "\t   LMO4, HS6ST3, MT-CO1, NES, TBX2, MT-CYB, LSAMP, MT-CO3, NPPB, SSTR2 \n",
      "\n",
      "Warning message:\n",
      "“The default method for RunUMAP has changed from calling Python UMAP via reticulate to the R-native UWOT using the cosine metric\n",
      "To use Python UMAP via reticulate, set umap.method to 'umap-learn' and metric to 'correlation'\n",
      "This message will be shown once per session”\n",
      "16:30:53 UMAP embedding parameters a = 0.9922 b = 1.112\n",
      "\n",
      "16:30:53 Read 3167 rows and found 30 numeric columns\n",
      "\n",
      "16:30:53 Using Annoy for neighbor search, n_neighbors = 30\n",
      "\n",
      "16:30:53 Building Annoy index with metric = cosine, n_trees = 50\n",
      "\n",
      "0%   10   20   30   40   50   60   70   80   90   100%\n",
      "\n",
      "[----|----|----|----|----|----|----|----|----|----|\n",
      "\n",
      "*\n",
      "*\n",
      "*\n",
      "*\n",
      "*\n",
      "*\n",
      "*\n",
      "*\n",
      "*\n",
      "*\n",
      "*\n",
      "*\n",
      "*\n",
      "*\n",
      "*\n",
      "*\n",
      "*\n",
      "*\n",
      "*\n",
      "*\n",
      "*\n",
      "*\n",
      "*\n",
      "*\n",
      "*\n",
      "*\n",
      "*\n",
      "*\n",
      "*\n",
      "*\n",
      "*\n",
      "*\n",
      "*\n",
      "*\n",
      "*\n",
      "*\n",
      "*\n",
      "*\n",
      "*\n",
      "*\n",
      "*\n",
      "*\n",
      "*\n",
      "*\n",
      "*\n",
      "*\n",
      "*\n",
      "*\n",
      "*\n",
      "*\n",
      "|\n",
      "\n",
      "16:30:54 Writing NN index file to temp file /tmp/Rtmp2rPhfI/file28d76d440515e5\n",
      "\n",
      "16:30:54 Searching Annoy index using 1 thread, search_k = 3000\n",
      "\n",
      "16:30:54 Annoy recall = 100%\n",
      "\n",
      "16:30:55 Commencing smooth kNN distance calibration using 1 thread\n",
      " with target n_neighbors = 30\n",
      "\n",
      "16:30:56 Initializing from normalized Laplacian + noise (using irlba)\n",
      "\n",
      "16:30:57 Commencing optimization for 500 epochs, with 130804 positive edges\n",
      "\n",
      "16:31:01 Optimization finished\n",
      "\n",
      "Warning message:\n",
      "“Keys should be one or more alphanumeric characters followed by an underscore, setting key from prtbumap to prtbumap_”\n"
     ]
    }
   ],
   "source": [
    "# Prepare PRTB assay for dimensionality reduction: \n",
    "# Normalize data, find variable features and center data.\n",
    "DefaultAssay(seurat) <- 'PRTB'\n",
    "\n",
    "# Use variable features from RNA assay.\n",
    "VariableFeatures(seurat) <- VariableFeatures(seurat[[\"RNA\"]])\n",
    "seurat <- ScaleData(seurat, do.scale = F, do.center = T)\n",
    "\n",
    "# Run PCA to reduce the dimensionality of the data.\n",
    "seurat <- RunPCA(seurat, reduction.key = 'prtbpca', reduction.name = 'prtbpca')\n",
    "\n",
    "# Run UMAP to visualize clustering in 2-D.\n",
    "seurat <- RunUMAP(\n",
    "  object = seurat, \n",
    "  dims = 1:30, \n",
    "  reduction = 'prtbpca', \n",
    "  reduction.key = 'prtbumap', \n",
    "  reduction.name = 'prtbumap')\n"
   ]
  },
  {
   "cell_type": "code",
   "execution_count": 8,
   "id": "004f5b91-f7c5-486b-9f67-7c2573b09dce",
   "metadata": {
    "vscode": {
     "languageId": "r"
    }
   },
   "outputs": [
    {
     "name": "stderr",
     "output_type": "stream",
     "text": [
      "Updating HTML index of packages in '.Library'\n",
      "\n",
      "Making 'packages.html' ...\n",
      " done\n",
      "\n"
     ]
    }
   ],
   "source": [
    "install.packages('mixtools')"
   ]
  },
  {
   "cell_type": "code",
   "execution_count": 9,
   "id": "2a3c744e-d84b-403e-879f-6630f43bb0f7",
   "metadata": {
    "collapsed": true,
    "jupyter": {
     "outputs_hidden": true
    },
    "vscode": {
     "languageId": "r"
    }
   },
   "outputs": [
    {
     "name": "stdout",
     "output_type": "stream",
     "text": [
      "number of iterations= 923 \n",
      "number of iterations= 498 \n",
      "number of iterations= 667 \n",
      "number of iterations= 735 \n",
      "number of iterations= 730 \n",
      "number of iterations= 757 \n",
      "number of iterations= 739 \n",
      "number of iterations= 715 \n",
      "number of iterations= 737 \n",
      "number of iterations= 830 \n",
      "number of iterations= 23 \n",
      "number of iterations= 14 \n",
      "number of iterations= 97 \n",
      "number of iterations= 94 \n",
      "number of iterations= 102 \n",
      "number of iterations= 103 \n",
      "number of iterations= 127 \n",
      "number of iterations= 78 \n",
      "number of iterations= 67 \n",
      "WARNING! NOT CONVERGENT! \n",
      "number of iterations= 5000 \n",
      "number of iterations= 573 \n",
      "number of iterations= 662 \n",
      "number of iterations= 617 \n",
      "number of iterations= 606 \n",
      "number of iterations= 644 \n",
      "number of iterations= 675 \n"
     ]
    }
   ],
   "source": [
    "# Run mixscape.\n",
    "seurat <- RunMixscape(\n",
    "  object = seurat, \n",
    "  assay = \"PRTB\", \n",
    "  slot = \"scale.data\", \n",
    "  labels = \"KO_call\", \n",
    "  nt.class.name = \"Ctrl\", \n",
    "  min.de.genes = 5, \n",
    "  iter.num = 10, \n",
    "  de.assay = \"RNA\", \n",
    "  verbose = F,\n",
    "  prtb.type = \"KO\")\n"
   ]
  },
  {
   "cell_type": "code",
   "execution_count": null,
   "id": "a12d4392-1075-412c-8ab6-475d304b8b8d",
   "metadata": {
    "vscode": {
     "languageId": "r"
    }
   },
   "outputs": [
    {
     "data": {
      "text/html": [
       "<table class=\"dataframe\">\n",
       "<caption>A grouped_df: 11 × 3</caption>\n",
       "<thead>\n",
       "\t<tr><th scope=col>KO_call</th><th scope=col>mixscape_class.global</th><th scope=col>n</th></tr>\n",
       "\t<tr><th scope=col>&lt;chr&gt;</th><th scope=col>&lt;chr&gt;</th><th scope=col>&lt;int&gt;</th></tr>\n",
       "</thead>\n",
       "<tbody>\n",
       "\t<tr><td>Ctrl  </td><td>Ctrl</td><td>523</td></tr>\n",
       "\t<tr><td>LHX9  </td><td>KO  </td><td>209</td></tr>\n",
       "\t<tr><td>LHX9  </td><td>NP  </td><td>329</td></tr>\n",
       "\t<tr><td>MSX1  </td><td>KO  </td><td>277</td></tr>\n",
       "\t<tr><td>MSX1  </td><td>NP  </td><td>182</td></tr>\n",
       "\t<tr><td>SMAD9 </td><td>KO  </td><td>426</td></tr>\n",
       "\t<tr><td>SMAD9 </td><td>NP  </td><td>192</td></tr>\n",
       "\t<tr><td>TLX2  </td><td>KO  </td><td>186</td></tr>\n",
       "\t<tr><td>TLX2  </td><td>NP  </td><td>295</td></tr>\n",
       "\t<tr><td>ZBTB20</td><td>KO  </td><td>308</td></tr>\n",
       "\t<tr><td>ZBTB20</td><td>NP  </td><td>240</td></tr>\n",
       "</tbody>\n",
       "</table>\n"
      ],
      "text/latex": [
       "A grouped\\_df: 11 × 3\n",
       "\\begin{tabular}{lll}\n",
       " KO\\_call & mixscape\\_class.global & n\\\\\n",
       " <chr> & <chr> & <int>\\\\\n",
       "\\hline\n",
       "\t Ctrl   & Ctrl & 523\\\\\n",
       "\t LHX9   & KO   & 209\\\\\n",
       "\t LHX9   & NP   & 329\\\\\n",
       "\t MSX1   & KO   & 277\\\\\n",
       "\t MSX1   & NP   & 182\\\\\n",
       "\t SMAD9  & KO   & 426\\\\\n",
       "\t SMAD9  & NP   & 192\\\\\n",
       "\t TLX2   & KO   & 186\\\\\n",
       "\t TLX2   & NP   & 295\\\\\n",
       "\t ZBTB20 & KO   & 308\\\\\n",
       "\t ZBTB20 & NP   & 240\\\\\n",
       "\\end{tabular}\n"
      ],
      "text/markdown": [
       "\n",
       "A grouped_df: 11 × 3\n",
       "\n",
       "| KO_call &lt;chr&gt; | mixscape_class.global &lt;chr&gt; | n &lt;int&gt; |\n",
       "|---|---|---|\n",
       "| Ctrl   | Ctrl | 523 |\n",
       "| LHX9   | KO   | 209 |\n",
       "| LHX9   | NP   | 329 |\n",
       "| MSX1   | KO   | 277 |\n",
       "| MSX1   | NP   | 182 |\n",
       "| SMAD9  | KO   | 426 |\n",
       "| SMAD9  | NP   | 192 |\n",
       "| TLX2   | KO   | 186 |\n",
       "| TLX2   | NP   | 295 |\n",
       "| ZBTB20 | KO   | 308 |\n",
       "| ZBTB20 | NP   | 240 |\n",
       "\n"
      ],
      "text/plain": [
       "   KO_call mixscape_class.global n  \n",
       "1  Ctrl    Ctrl                  523\n",
       "2  LHX9    KO                    209\n",
       "3  LHX9    NP                    329\n",
       "4  MSX1    KO                    277\n",
       "5  MSX1    NP                    182\n",
       "6  SMAD9   KO                    426\n",
       "7  SMAD9   NP                    192\n",
       "8  TLX2    KO                    186\n",
       "9  TLX2    NP                    295\n",
       "10 ZBTB20  KO                    308\n",
       "11 ZBTB20  NP                    240"
      ]
     },
     "metadata": {},
     "output_type": "display_data"
    }
   ],
   "source": [
    "df <- seurat@meta.data %>% group_by(KO_call) %>% count(mixscape_class.global)"
   ]
  },
  {
   "cell_type": "code",
   "execution_count": null,
   "id": "8aed335c-4a3b-4050-a412-e50e0679382c",
   "metadata": {
    "vscode": {
     "languageId": "r"
    }
   },
   "outputs": [
    {
     "data": {
      "text/html": [
       "<table class=\"dataframe\">\n",
       "<caption>A tibble: 6 × 2</caption>\n",
       "<thead>\n",
       "\t<tr><th scope=col>KO_call</th><th scope=col>total</th></tr>\n",
       "\t<tr><th scope=col>&lt;chr&gt;</th><th scope=col>&lt;int&gt;</th></tr>\n",
       "</thead>\n",
       "<tbody>\n",
       "\t<tr><td>Ctrl  </td><td>523</td></tr>\n",
       "\t<tr><td>LHX9  </td><td>538</td></tr>\n",
       "\t<tr><td>MSX1  </td><td>459</td></tr>\n",
       "\t<tr><td>SMAD9 </td><td>618</td></tr>\n",
       "\t<tr><td>TLX2  </td><td>481</td></tr>\n",
       "\t<tr><td>ZBTB20</td><td>548</td></tr>\n",
       "</tbody>\n",
       "</table>\n"
      ],
      "text/latex": [
       "A tibble: 6 × 2\n",
       "\\begin{tabular}{ll}\n",
       " KO\\_call & total\\\\\n",
       " <chr> & <int>\\\\\n",
       "\\hline\n",
       "\t Ctrl   & 523\\\\\n",
       "\t LHX9   & 538\\\\\n",
       "\t MSX1   & 459\\\\\n",
       "\t SMAD9  & 618\\\\\n",
       "\t TLX2   & 481\\\\\n",
       "\t ZBTB20 & 548\\\\\n",
       "\\end{tabular}\n"
      ],
      "text/markdown": [
       "\n",
       "A tibble: 6 × 2\n",
       "\n",
       "| KO_call &lt;chr&gt; | total &lt;int&gt; |\n",
       "|---|---|\n",
       "| Ctrl   | 523 |\n",
       "| LHX9   | 538 |\n",
       "| MSX1   | 459 |\n",
       "| SMAD9  | 618 |\n",
       "| TLX2   | 481 |\n",
       "| ZBTB20 | 548 |\n",
       "\n"
      ],
      "text/plain": [
       "  KO_call total\n",
       "1 Ctrl    523  \n",
       "2 LHX9    538  \n",
       "3 MSX1    459  \n",
       "4 SMAD9   618  \n",
       "5 TLX2    481  \n",
       "6 ZBTB20  548  "
      ]
     },
     "metadata": {},
     "output_type": "display_data"
    }
   ],
   "source": [
    "# Calculate the total count for each KO_call\n",
    "total_counts <- df %>%\n",
    "  group_by(KO_call) %>%\n",
    "  summarise(total = sum(n))\n",
    "\n",
    "total_counts"
   ]
  },
  {
   "cell_type": "code",
   "execution_count": null,
   "id": "3f978d92-268a-472e-ac13-54a1359f122e",
   "metadata": {
    "vscode": {
     "languageId": "r"
    }
   },
   "outputs": [
    {
     "data": {
      "text/html": [
       "<table class=\"dataframe\">\n",
       "<caption>A grouped_df: 5 × 2</caption>\n",
       "<thead>\n",
       "\t<tr><th scope=col>KO_call</th><th scope=col>n_ko</th></tr>\n",
       "\t<tr><th scope=col>&lt;chr&gt;</th><th scope=col>&lt;int&gt;</th></tr>\n",
       "</thead>\n",
       "<tbody>\n",
       "\t<tr><td>LHX9  </td><td>209</td></tr>\n",
       "\t<tr><td>MSX1  </td><td>277</td></tr>\n",
       "\t<tr><td>SMAD9 </td><td>426</td></tr>\n",
       "\t<tr><td>TLX2  </td><td>186</td></tr>\n",
       "\t<tr><td>ZBTB20</td><td>308</td></tr>\n",
       "</tbody>\n",
       "</table>\n"
      ],
      "text/latex": [
       "A grouped\\_df: 5 × 2\n",
       "\\begin{tabular}{ll}\n",
       " KO\\_call & n\\_ko\\\\\n",
       " <chr> & <int>\\\\\n",
       "\\hline\n",
       "\t LHX9   & 209\\\\\n",
       "\t MSX1   & 277\\\\\n",
       "\t SMAD9  & 426\\\\\n",
       "\t TLX2   & 186\\\\\n",
       "\t ZBTB20 & 308\\\\\n",
       "\\end{tabular}\n"
      ],
      "text/markdown": [
       "\n",
       "A grouped_df: 5 × 2\n",
       "\n",
       "| KO_call &lt;chr&gt; | n_ko &lt;int&gt; |\n",
       "|---|---|\n",
       "| LHX9   | 209 |\n",
       "| MSX1   | 277 |\n",
       "| SMAD9  | 426 |\n",
       "| TLX2   | 186 |\n",
       "| ZBTB20 | 308 |\n",
       "\n"
      ],
      "text/plain": [
       "  KO_call n_ko\n",
       "1 LHX9    209 \n",
       "2 MSX1    277 \n",
       "3 SMAD9   426 \n",
       "4 TLX2    186 \n",
       "5 ZBTB20  308 "
      ]
     },
     "metadata": {},
     "output_type": "display_data"
    }
   ],
   "source": [
    "# Calculate the count for each KO_call in the KO group\n",
    "ko_counts <- df %>%\n",
    "  filter(mixscape_class.global == \"KO\") %>%\n",
    "  select(KO_call, n_ko = n)\n",
    "\n",
    "ko_counts\n"
   ]
  },
  {
   "cell_type": "code",
   "execution_count": null,
   "id": "cbd321cd-bcdf-4af4-87cf-deca12399b17",
   "metadata": {
    "vscode": {
     "languageId": "r"
    }
   },
   "outputs": [
    {
     "data": {
      "text/html": [
       "<table class=\"dataframe\">\n",
       "<caption>A tibble: 6 × 4</caption>\n",
       "<thead>\n",
       "\t<tr><th scope=col>KO_call</th><th scope=col>total</th><th scope=col>n_ko</th><th scope=col>percent_in_KO</th></tr>\n",
       "\t<tr><th scope=col>&lt;chr&gt;</th><th scope=col>&lt;int&gt;</th><th scope=col>&lt;int&gt;</th><th scope=col>&lt;dbl&gt;</th></tr>\n",
       "</thead>\n",
       "<tbody>\n",
       "\t<tr><td>Ctrl  </td><td>523</td><td> NA</td><td>      NA</td></tr>\n",
       "\t<tr><td>LHX9  </td><td>538</td><td>209</td><td>38.84758</td></tr>\n",
       "\t<tr><td>MSX1  </td><td>459</td><td>277</td><td>60.34858</td></tr>\n",
       "\t<tr><td>SMAD9 </td><td>618</td><td>426</td><td>68.93204</td></tr>\n",
       "\t<tr><td>TLX2  </td><td>481</td><td>186</td><td>38.66944</td></tr>\n",
       "\t<tr><td>ZBTB20</td><td>548</td><td>308</td><td>56.20438</td></tr>\n",
       "</tbody>\n",
       "</table>\n"
      ],
      "text/latex": [
       "A tibble: 6 × 4\n",
       "\\begin{tabular}{llll}\n",
       " KO\\_call & total & n\\_ko & percent\\_in\\_KO\\\\\n",
       " <chr> & <int> & <int> & <dbl>\\\\\n",
       "\\hline\n",
       "\t Ctrl   & 523 &  NA &       NA\\\\\n",
       "\t LHX9   & 538 & 209 & 38.84758\\\\\n",
       "\t MSX1   & 459 & 277 & 60.34858\\\\\n",
       "\t SMAD9  & 618 & 426 & 68.93204\\\\\n",
       "\t TLX2   & 481 & 186 & 38.66944\\\\\n",
       "\t ZBTB20 & 548 & 308 & 56.20438\\\\\n",
       "\\end{tabular}\n"
      ],
      "text/markdown": [
       "\n",
       "A tibble: 6 × 4\n",
       "\n",
       "| KO_call &lt;chr&gt; | total &lt;int&gt; | n_ko &lt;int&gt; | percent_in_KO &lt;dbl&gt; |\n",
       "|---|---|---|---|\n",
       "| Ctrl   | 523 |  NA |       NA |\n",
       "| LHX9   | 538 | 209 | 38.84758 |\n",
       "| MSX1   | 459 | 277 | 60.34858 |\n",
       "| SMAD9  | 618 | 426 | 68.93204 |\n",
       "| TLX2   | 481 | 186 | 38.66944 |\n",
       "| ZBTB20 | 548 | 308 | 56.20438 |\n",
       "\n"
      ],
      "text/plain": [
       "  KO_call total n_ko percent_in_KO\n",
       "1 Ctrl    523    NA        NA     \n",
       "2 LHX9    538   209  38.84758     \n",
       "3 MSX1    459   277  60.34858     \n",
       "4 SMAD9   618   426  68.93204     \n",
       "5 TLX2    481   186  38.66944     \n",
       "6 ZBTB20  548   308  56.20438     "
      ]
     },
     "metadata": {},
     "output_type": "display_data"
    }
   ],
   "source": [
    "# Join the data frames and calculate the percentage\n",
    "final_df <- total_counts %>%\n",
    "  left_join(ko_counts, by = \"KO_call\") %>%\n",
    "  mutate(percent_in_KO = (n_ko / total) * 100)\n",
    "\n",
    "final_df"
   ]
  },
  {
   "cell_type": "code",
   "execution_count": null,
   "id": "d5f735bc-fcb8-4caa-8823-786ada473378",
   "metadata": {
    "vscode": {
     "languageId": "r"
    }
   },
   "outputs": [],
   "source": [
    "library(scales) # Required for number formatting\n",
    "\n",
    "# List of target genes to plot\n",
    "target_genes <- c(\"LHX9\", \"MSX1\", \"TLX2\", \"SMAD9\", \"ZBTB20\")\n",
    "\n",
    "# Loop through each gene to create and save the plots\n",
    "for (gene in target_genes) {\n",
    "  # Define the file path for each gene's plot\n",
    "  file_path <- paste0('Mixscape/', gene, '.pdf')\n",
    "  \n",
    "  # Open a PDF device for plotting\n",
    "  pdf(file = file_path, width = 4, height = 3)\n",
    "  \n",
    "  # Generate the plot for the current gene\n",
    "  plot <- PlotPerturbScore(\n",
    "    object = seurat,\n",
    "    target.gene.class = \"KO_call\",\n",
    "    target.gene.ident = c(gene),\n",
    "    mixscape.class = \"mixscape_class\",\n",
    "    col = \"coral2\"\n",
    "  ) + NoLegend()\n",
    "\n",
    "  # Modify the plot to format the y-axis\n",
    "  plot <- plot + scale_y_continuous(labels = scales::number_format(accuracy = 0.1))\n",
    "  \n",
    "  # Print the plot to the PDF\n",
    "  print(plot)\n",
    "  \n",
    "  # Close the PDF device\n",
    "  dev.off()\n",
    "}\n"
   ]
  },
  {
   "cell_type": "code",
   "execution_count": null,
   "id": "08c317ff-0d00-4476-8503-cd01f48c11c8",
   "metadata": {
    "vscode": {
     "languageId": "r"
    }
   },
   "outputs": [],
   "source": []
  }
 ],
 "metadata": {
  "kernelspec": {
   "display_name": "R 4.3.2",
   "language": "R",
   "name": "ir432"
  },
  "language_info": {
   "codemirror_mode": "r",
   "file_extension": ".r",
   "mimetype": "text/x-r-source",
   "name": "R",
   "pygments_lexer": "r",
   "version": "4.3.2"
  }
 },
 "nbformat": 4,
 "nbformat_minor": 5
}
