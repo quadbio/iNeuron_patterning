{
 "cells": [
  {
   "cell_type": "code",
   "execution_count": 1,
   "id": "1bde6d43-6d8c-4e61-9f24-5791ec5e5e5d",
   "metadata": {},
   "outputs": [],
   "source": [
    "import pandas as pd\n",
    "import scanpy as sc\n",
    "import matplotlib as mpl\n",
    "import matplotlib.pyplot as plt\n",
    "import seaborn as sns"
   ]
  },
  {
   "cell_type": "code",
   "execution_count": 2,
   "id": "e6933d90-0687-407a-8321-e63092065cef",
   "metadata": {},
   "outputs": [
    {
     "name": "stderr",
     "output_type": "stream",
     "text": [
      "/links/groups/treutlein/USERS/jjans/mambaforge/envs/py_jjans_3.10_ML/lib/python3.10/site-packages/anndata/compat/__init__.py:298: FutureWarning: Moving element from .uns['neighbors']['distances'] to .obsp['distances'].\n",
      "\n",
      "This is where adjacency matrices should go now.\n",
      "  warn(\n"
     ]
    }
   ],
   "source": [
    "adata = sc.read_h5ad(\"seurat_withscreen/data_integrated_SCT_50PCs_all_screencells.h5ad\")"
   ]
  },
  {
   "cell_type": "code",
   "execution_count": 3,
   "id": "0fb83412-803e-461a-a3f8-e062e8382042",
   "metadata": {},
   "outputs": [
    {
     "data": {
      "text/html": [
       "<div>\n",
       "<style scoped>\n",
       "    .dataframe tbody tr th:only-of-type {\n",
       "        vertical-align: middle;\n",
       "    }\n",
       "\n",
       "    .dataframe tbody tr th {\n",
       "        vertical-align: top;\n",
       "    }\n",
       "\n",
       "    .dataframe thead th {\n",
       "        text-align: right;\n",
       "    }\n",
       "</style>\n",
       "<table border=\"1\" class=\"dataframe\">\n",
       "  <thead>\n",
       "    <tr style=\"text-align: right;\">\n",
       "      <th></th>\n",
       "      <th>orig.ident</th>\n",
       "      <th>nCount_RNA</th>\n",
       "      <th>nFeature_RNA</th>\n",
       "      <th>sample</th>\n",
       "      <th>n_genes_by_counts</th>\n",
       "      <th>log1p_n_genes_by_counts</th>\n",
       "      <th>total_counts</th>\n",
       "      <th>log1p_total_counts</th>\n",
       "      <th>pct_counts_in_top_20_genes</th>\n",
       "      <th>total_counts_mt</th>\n",
       "      <th>...</th>\n",
       "      <th>TF_HOXB3</th>\n",
       "      <th>pred_label</th>\n",
       "      <th>final_label</th>\n",
       "      <th>experiment</th>\n",
       "      <th>percent.mt</th>\n",
       "      <th>nCount_SCT</th>\n",
       "      <th>nFeature_SCT</th>\n",
       "      <th>unintegrated_clusters</th>\n",
       "      <th>seurat_clusters</th>\n",
       "      <th>SCT_snn_res.1</th>\n",
       "    </tr>\n",
       "  </thead>\n",
       "  <tbody>\n",
       "    <tr>\n",
       "      <th>43_96_51__s3</th>\n",
       "      <td>0</td>\n",
       "      <td>4524.0</td>\n",
       "      <td>2354.0</td>\n",
       "      <td>iGlut_post_p2</td>\n",
       "      <td>2593</td>\n",
       "      <td>7.860956</td>\n",
       "      <td>4922.0</td>\n",
       "      <td>8.501674</td>\n",
       "      <td>14.181227</td>\n",
       "      <td>79.0</td>\n",
       "      <td>...</td>\n",
       "      <td>0.0</td>\n",
       "      <td>unknown</td>\n",
       "      <td>unknown</td>\n",
       "      <td>screen</td>\n",
       "      <td>0.066313</td>\n",
       "      <td>5597.0</td>\n",
       "      <td>2356</td>\n",
       "      <td>38</td>\n",
       "      <td>16</td>\n",
       "      <td>16</td>\n",
       "    </tr>\n",
       "    <tr>\n",
       "      <th>34_73_51__s2</th>\n",
       "      <td>0</td>\n",
       "      <td>4917.0</td>\n",
       "      <td>2195.0</td>\n",
       "      <td>iGlut_post_p2</td>\n",
       "      <td>2423</td>\n",
       "      <td>7.793174</td>\n",
       "      <td>5345.0</td>\n",
       "      <td>8.584104</td>\n",
       "      <td>12.965388</td>\n",
       "      <td>1.0</td>\n",
       "      <td>...</td>\n",
       "      <td>0.0</td>\n",
       "      <td>unknown</td>\n",
       "      <td>unknown</td>\n",
       "      <td>screen</td>\n",
       "      <td>0.000000</td>\n",
       "      <td>5735.0</td>\n",
       "      <td>2195</td>\n",
       "      <td>3</td>\n",
       "      <td>14</td>\n",
       "      <td>14</td>\n",
       "    </tr>\n",
       "    <tr>\n",
       "      <th>66_08_31__s3</th>\n",
       "      <td>0</td>\n",
       "      <td>6423.0</td>\n",
       "      <td>2782.0</td>\n",
       "      <td>iGlut_post_p2</td>\n",
       "      <td>3063</td>\n",
       "      <td>8.027477</td>\n",
       "      <td>6913.0</td>\n",
       "      <td>8.841304</td>\n",
       "      <td>12.006365</td>\n",
       "      <td>62.0</td>\n",
       "      <td>...</td>\n",
       "      <td>0.0</td>\n",
       "      <td>unknown</td>\n",
       "      <td>unknown</td>\n",
       "      <td>screen</td>\n",
       "      <td>0.062276</td>\n",
       "      <td>6408.0</td>\n",
       "      <td>2781</td>\n",
       "      <td>38</td>\n",
       "      <td>16</td>\n",
       "      <td>16</td>\n",
       "    </tr>\n",
       "    <tr>\n",
       "      <th>70_40_74__s1</th>\n",
       "      <td>0</td>\n",
       "      <td>6811.0</td>\n",
       "      <td>2811.0</td>\n",
       "      <td>iGlut_post_p1</td>\n",
       "      <td>3046</td>\n",
       "      <td>8.021913</td>\n",
       "      <td>7276.0</td>\n",
       "      <td>8.892474</td>\n",
       "      <td>12.039582</td>\n",
       "      <td>54.0</td>\n",
       "      <td>...</td>\n",
       "      <td>0.0</td>\n",
       "      <td>unknown</td>\n",
       "      <td>unknown</td>\n",
       "      <td>screen</td>\n",
       "      <td>0.073411</td>\n",
       "      <td>6654.0</td>\n",
       "      <td>2811</td>\n",
       "      <td>5</td>\n",
       "      <td>5</td>\n",
       "      <td>5</td>\n",
       "    </tr>\n",
       "    <tr>\n",
       "      <th>08_12_14__s2</th>\n",
       "      <td>0</td>\n",
       "      <td>4843.0</td>\n",
       "      <td>2157.0</td>\n",
       "      <td>iGlut_post_p2</td>\n",
       "      <td>2371</td>\n",
       "      <td>7.771489</td>\n",
       "      <td>5273.0</td>\n",
       "      <td>8.570544</td>\n",
       "      <td>12.194197</td>\n",
       "      <td>1.0</td>\n",
       "      <td>...</td>\n",
       "      <td>0.0</td>\n",
       "      <td>unknown</td>\n",
       "      <td>unknown</td>\n",
       "      <td>screen</td>\n",
       "      <td>0.000000</td>\n",
       "      <td>5700.0</td>\n",
       "      <td>2156</td>\n",
       "      <td>7</td>\n",
       "      <td>4</td>\n",
       "      <td>4</td>\n",
       "    </tr>\n",
       "  </tbody>\n",
       "</table>\n",
       "<p>5 rows × 74 columns</p>\n",
       "</div>"
      ],
      "text/plain": [
       "              orig.ident  nCount_RNA  nFeature_RNA         sample  \\\n",
       "43_96_51__s3           0      4524.0        2354.0  iGlut_post_p2   \n",
       "34_73_51__s2           0      4917.0        2195.0  iGlut_post_p2   \n",
       "66_08_31__s3           0      6423.0        2782.0  iGlut_post_p2   \n",
       "70_40_74__s1           0      6811.0        2811.0  iGlut_post_p1   \n",
       "08_12_14__s2           0      4843.0        2157.0  iGlut_post_p2   \n",
       "\n",
       "              n_genes_by_counts  log1p_n_genes_by_counts  total_counts  \\\n",
       "43_96_51__s3               2593                 7.860956        4922.0   \n",
       "34_73_51__s2               2423                 7.793174        5345.0   \n",
       "66_08_31__s3               3063                 8.027477        6913.0   \n",
       "70_40_74__s1               3046                 8.021913        7276.0   \n",
       "08_12_14__s2               2371                 7.771489        5273.0   \n",
       "\n",
       "              log1p_total_counts  pct_counts_in_top_20_genes  total_counts_mt  \\\n",
       "43_96_51__s3            8.501674                   14.181227             79.0   \n",
       "34_73_51__s2            8.584104                   12.965388              1.0   \n",
       "66_08_31__s3            8.841304                   12.006365             62.0   \n",
       "70_40_74__s1            8.892474                   12.039582             54.0   \n",
       "08_12_14__s2            8.570544                   12.194197              1.0   \n",
       "\n",
       "              ...  TF_HOXB3  pred_label  final_label  experiment  percent.mt  \\\n",
       "43_96_51__s3  ...       0.0     unknown      unknown      screen    0.066313   \n",
       "34_73_51__s2  ...       0.0     unknown      unknown      screen    0.000000   \n",
       "66_08_31__s3  ...       0.0     unknown      unknown      screen    0.062276   \n",
       "70_40_74__s1  ...       0.0     unknown      unknown      screen    0.073411   \n",
       "08_12_14__s2  ...       0.0     unknown      unknown      screen    0.000000   \n",
       "\n",
       "              nCount_SCT  nFeature_SCT  unintegrated_clusters seurat_clusters  \\\n",
       "43_96_51__s3      5597.0          2356                     38              16   \n",
       "34_73_51__s2      5735.0          2195                      3              14   \n",
       "66_08_31__s3      6408.0          2781                     38              16   \n",
       "70_40_74__s1      6654.0          2811                      5               5   \n",
       "08_12_14__s2      5700.0          2156                      7               4   \n",
       "\n",
       "             SCT_snn_res.1  \n",
       "43_96_51__s3            16  \n",
       "34_73_51__s2            14  \n",
       "66_08_31__s3            16  \n",
       "70_40_74__s1             5  \n",
       "08_12_14__s2             4  \n",
       "\n",
       "[5 rows x 74 columns]"
      ]
     },
     "execution_count": 3,
     "metadata": {},
     "output_type": "execute_result"
    }
   ],
   "source": [
    "meta = adata.obs.copy()\n",
    "meta.head()"
   ]
  },
  {
   "cell_type": "code",
   "execution_count": 4,
   "id": "83e034fd-5d43-47f7-af42-9844e7b5548b",
   "metadata": {},
   "outputs": [],
   "source": [
    "meta_oe_xgb = pd.read_csv(\"classifier_results/XGB_classifier_extraEGFP_0.85_precision.tsv\",sep=\"\\t\",index_col=0)"
   ]
  },
  {
   "cell_type": "code",
   "execution_count": 5,
   "id": "383ce016-a65f-4ca9-8486-baf85e294bc4",
   "metadata": {},
   "outputs": [],
   "source": [
    "common_cells = list(set(meta.index)&set(meta_oe_xgb.index))"
   ]
  },
  {
   "cell_type": "code",
   "execution_count": 6,
   "id": "0417976f-a22b-4a6c-93ba-a7c3a9e1255d",
   "metadata": {},
   "outputs": [],
   "source": [
    "meta.loc[common_cells,'final_label'] = meta_oe_xgb.loc[common_cells,'final_label']"
   ]
  },
  {
   "cell_type": "code",
   "execution_count": 7,
   "id": "853d3751-95fe-499b-9189-7f90fdd1bbe6",
   "metadata": {},
   "outputs": [],
   "source": [
    "meta_screen = meta.loc[meta['experiment']=='screen']"
   ]
  },
  {
   "cell_type": "code",
   "execution_count": 8,
   "id": "364bdaea-03df-42c2-8660-760ac2b26ddb",
   "metadata": {},
   "outputs": [
    {
     "data": {
      "text/plain": [
       "Index(['orig.ident', 'nCount_RNA', 'nFeature_RNA', 'sample',\n",
       "       'n_genes_by_counts', 'log1p_n_genes_by_counts', 'total_counts',\n",
       "       'log1p_total_counts', 'pct_counts_in_top_20_genes', 'total_counts_mt',\n",
       "       'log1p_total_counts_mt', 'pct_counts_mt', 'total_counts_ribo',\n",
       "       'log1p_total_counts_ribo', 'pct_counts_ribo', 'n_genes', 'percent_mito',\n",
       "       'n_counts', 'outlier', 'mt_outlier', 'doublet_score',\n",
       "       'predicted_doublet', 'M_XAV', 'M_CHIR', 'M_RA', 'M_FGF8', 'M_BMP4',\n",
       "       'M_SHH', 'M_CycA', 'FB_NFATC1', 'FB_LEF1', 'FB_LHX4', 'FB_NEUROD1',\n",
       "       'FB_PHOX2B', 'FB_LHX9', 'FB_MSX1', 'FB_ZFHX3', 'FB_TLX2', 'FB_TCF7L2',\n",
       "       'FB_TCF7L1', 'FB_EGFP', 'FB_SMAD9', 'FB_RXRG', 'FB_RARB', 'FB_NFIA',\n",
       "       'FB_MEIS2', 'FB_HOXB3', 'TF_NFATC1', 'TF_LEF1', 'TF_LHX4', 'TF_NEUROD1',\n",
       "       'TF_PHOX2B', 'TF_LHX9', 'TF_MSX1', 'TF_ZFHX3', 'TF_TLX2', 'TF_TCF7L2',\n",
       "       'TF_TCF7L1', 'TF_EGFP', 'TF_SMAD9', 'TF_RXRG', 'TF_RARB', 'TF_NFIA',\n",
       "       'TF_MEIS2', 'TF_HOXB3', 'pred_label', 'final_label', 'experiment',\n",
       "       'percent.mt', 'nCount_SCT', 'nFeature_SCT', 'unintegrated_clusters',\n",
       "       'seurat_clusters', 'SCT_snn_res.1'],\n",
       "      dtype='object')"
      ]
     },
     "execution_count": 8,
     "metadata": {},
     "output_type": "execute_result"
    }
   ],
   "source": [
    "meta_screen.columns"
   ]
  },
  {
   "cell_type": "code",
   "execution_count": 9,
   "id": "2d9d1329-0188-49e9-9c3b-d72037251da0",
   "metadata": {},
   "outputs": [
    {
     "name": "stdout",
     "output_type": "stream",
     "text": [
      "iGlut_post\n"
     ]
    }
   ],
   "source": [
    "sample = 'iGlut_post'\n",
    "print(sample)\n",
    "\n",
    "#reference_adata = sc.read_h5ad(\"/home/jjanssens/jjans/analysis/iNeuron_morphogens/final/scanpy/\"+sample+\"_dr_clustered_raw_merged.h5ad\")\n",
    "#load metadata\n",
    "ref_meta = pd.read_csv(\"/home/jjanssens/jjans/analysis/iNeuron_morphogens/final/scanpy/\"+sample+\"_dr_clustered_raw_merged_meta.tsv\",sep=\"\\t\",index_col=0)\n",
    "ref_meta['M_CycA'] = ref_meta['CycA']\n"
   ]
  },
  {
   "cell_type": "code",
   "execution_count": 10,
   "id": "22515586-0baa-4d70-8739-a557eba8d7fe",
   "metadata": {},
   "outputs": [],
   "source": [
    "ref_meta['condition'] = ref_meta['AP_axis']+\"_\"+ref_meta['DV_axis']+\"_\"+ref_meta['Basal_media']"
   ]
  },
  {
   "cell_type": "code",
   "execution_count": 11,
   "id": "e1c8227f-d669-406c-ad12-4c332f0b0175",
   "metadata": {},
   "outputs": [],
   "source": [
    "screen_cells = list(set(ref_meta.index)&set(meta.index))"
   ]
  },
  {
   "cell_type": "code",
   "execution_count": 12,
   "id": "4e3d9696-f5a3-4aaf-b963-6d8769752fca",
   "metadata": {},
   "outputs": [],
   "source": [
    "meta.loc[screen_cells,'final_label'] = ref_meta.loc[screen_cells,'condition']"
   ]
  },
  {
   "cell_type": "code",
   "execution_count": null,
   "id": "98765384-d3d2-49b0-84e5-145de1dea54c",
   "metadata": {},
   "outputs": [],
   "source": []
  },
  {
   "cell_type": "code",
   "execution_count": 41,
   "id": "22e6ddb3-2d48-4b22-b684-5e6c13d87270",
   "metadata": {},
   "outputs": [],
   "source": [
    "cond_summary = pd.DataFrame(index=list(set(meta['seurat_clusters'])),columns=list(set(meta['final_label'])))\n",
    "for condition in list(set(meta['final_label'])):\n",
    "    meta_cond = meta.loc[meta['final_label']==condition]\n",
    "    a = meta_cond['seurat_clusters'].value_counts()\n",
    "    a = a[a>=5]\n",
    "    cond_summary.loc[a.index,condition] = a\n"
   ]
  },
  {
   "cell_type": "code",
   "execution_count": 42,
   "id": "74f74de5-b65f-4142-955f-be96fc40b8e0",
   "metadata": {},
   "outputs": [],
   "source": [
    "cond_summary = cond_summary.fillna(0)"
   ]
  },
  {
   "cell_type": "code",
   "execution_count": 43,
   "id": "206673d7-fff8-49d1-8875-1ca716d6d458",
   "metadata": {},
   "outputs": [],
   "source": [
    "labels_use = ['TLX2','MSX1','TCF7L1','TCF7L2','NEUROD1','NFATC1','LHX9','LEF1','PHOX2B','EGFP']\n",
    "labels_use = ['label_'+x for x in labels_use]"
   ]
  },
  {
   "cell_type": "code",
   "execution_count": 44,
   "id": "8bbaf2db-f34b-45ec-b779-57ca1de4b0b5",
   "metadata": {},
   "outputs": [],
   "source": [
    "cond_summary_oe = cond_summary[labels_use].copy()\n",
    "cond_summary_screen = cond_summary[list(set(ref_meta['condition']))].copy()"
   ]
  },
  {
   "cell_type": "code",
   "execution_count": 45,
   "id": "b43e61b4-ef0f-4af0-b3f4-d7aa0f9b2265",
   "metadata": {},
   "outputs": [],
   "source": [
    "cond_summary_screen_norm = cond_summary_screen/cond_summary_screen.sum()\n",
    "cond_summary_oe_norm = cond_summary_oe/cond_summary_oe.sum()"
   ]
  },
  {
   "cell_type": "code",
   "execution_count": 46,
   "id": "e0abdb97-57d5-483e-8c28-6fb0026236c2",
   "metadata": {},
   "outputs": [
    {
     "name": "stderr",
     "output_type": "stream",
     "text": [
      "/tmp/ipykernel_21984/1740182696.py:4: FutureWarning: Setting an item of incompatible dtype is deprecated and will raise in a future error of pandas. Value 'TF-OE' has dtype incompatible with float64, please explicitly cast to a compatible dtype first.\n",
      "  tst.loc[cond_summary_oe_norm.columns,'exp'] = 'TF-OE'\n",
      "/tmp/ipykernel_21984/1740182696.py:9: FutureWarning: Setting an item of incompatible dtype is deprecated and will raise in a future error of pandas. Value 'TF-OE' has dtype incompatible with float64, please explicitly cast to a compatible dtype first.\n",
      "  tst.loc[cond_summary_oe_norm.columns,'exp2'] = 'TF-OE'\n"
     ]
    }
   ],
   "source": [
    "tst = pd.DataFrame(index=cond_summary.columns)\n",
    "tst.loc[cond_summary_oe_norm.columns,'purity_max'] = cond_summary_oe_norm.max()\n",
    "tst.loc[cond_summary_screen_norm.columns,'purity_max'] = cond_summary_screen_norm.max()\n",
    "tst.loc[cond_summary_oe_norm.columns,'exp'] = 'TF-OE'\n",
    "tst.loc[cond_summary_screen_norm.columns,'exp'] = 'morph'\n",
    "tst.loc['label_EGFP','exp'] = 'TF-OE_ctrl'\n",
    "tst.loc['ctrl_ctrl_mTeSR','exp'] = 'morph_ctrl'\n",
    "\n",
    "tst.loc[cond_summary_oe_norm.columns,'exp2'] = 'TF-OE'\n",
    "tst.loc[cond_summary_screen_norm.columns,'exp2'] = 'morph'\n"
   ]
  },
  {
   "cell_type": "code",
   "execution_count": 54,
   "id": "fa126545-e92f-4293-a771-ab08cb151431",
   "metadata": {},
   "outputs": [
    {
     "name": "stderr",
     "output_type": "stream",
     "text": [
      "/links/groups/treutlein/USERS/jjans/mambaforge/envs/py_jjans_3.10_ML/lib/python3.10/site-packages/seaborn/categorical.py:3370: UserWarning: 13.6% of the points cannot be placed; you may want to decrease the size of the markers or use stripplot.\n",
      "  warnings.warn(msg, UserWarning)\n",
      "/links/groups/treutlein/USERS/jjans/mambaforge/envs/py_jjans_3.10_ML/lib/python3.10/site-packages/seaborn/categorical.py:3370: UserWarning: 13.6% of the points cannot be placed; you may want to decrease the size of the markers or use stripplot.\n",
      "  warnings.warn(msg, UserWarning)\n",
      "/links/groups/treutlein/USERS/jjans/mambaforge/envs/py_jjans_3.10_ML/lib/python3.10/site-packages/seaborn/categorical.py:3370: UserWarning: 22.0% of the points cannot be placed; you may want to decrease the size of the markers or use stripplot.\n",
      "  warnings.warn(msg, UserWarning)\n"
     ]
    },
    {
     "data": {
      "image/png": "[encoded data removed]",
      "text/plain": [
       "<Figure size 300x400 with 1 Axes>"
      ]
     },
     "metadata": {},
     "output_type": "display_data"
    }
   ],
   "source": [
    "# Usual boxplot\n",
    "import matplotlib as mpl\n",
    "mpl.rcParams['pdf.fonttype'] = 42\n",
    "\n",
    "plt.figure(figsize=(3,4))\n",
    "ax = sns.boxplot(x='exp2',y='purity_max',data=tst,color='darkgrey')\n",
    " \n",
    "# Add jitter with the swarmplot function\n",
    "ax = sns.swarmplot(x='exp2', y='purity_max', data=tst, color=\"k\",alpha=0.7)\n",
    "\n",
    "tst2 = tst.loc[tst['exp'].isin(['TF-OE_ctrl','morph_ctrl'])]\n",
    "ax = sns.swarmplot(x='exp2', y='purity_max', data=tst2, color=\"red\")\n",
    "plt.ylabel('maximal purity (%)',fontsize=16)\n",
    "plt.xlabel('')\n",
    "plt.xticks(fontsize=16)\n",
    "plt.yticks([0,1],[0,1],fontsize=14)\n",
    "plt.savefig(\"figures/seurat_integration_purity_seuratclusters_final_label.png\",dpi=350,bbox_inches='tight',pad_inches=0)\n",
    "plt.savefig(\"figures/seurat_integration_purity_seuratclusters_final_label.pdf\",dpi=350,bbox_inches='tight',pad_inches=0)\n",
    "plt.show()\n"
   ]
  },
  {
   "cell_type": "code",
   "execution_count": 55,
   "id": "9354f521-1d9d-4d80-8344-b914ffb158e1",
   "metadata": {},
   "outputs": [
    {
     "data": {
      "image/png": "[encoded data removed]",
      "text/plain": [
       "<Figure size 300x400 with 1 Axes>"
      ]
     },
     "metadata": {},
     "output_type": "display_data"
    }
   ],
   "source": [
    "# Usual boxplot\n",
    "import matplotlib as mpl\n",
    "mpl.rcParams['pdf.fonttype'] = 42\n",
    "\n",
    "plt.figure(figsize=(3,4))\n",
    "ax = sns.boxplot(x='exp2',y='purity_max',data=tst,color='darkgrey')\n",
    " \n",
    "# Add jitter with the swarmplot function\n",
    "#ax = sns.swarmplot(x='exp2', y='purity_max', data=tst, color=\"k\",alpha=0.7)\n",
    "\n",
    "#tst2 = tst.loc[tst['exp'].isin(['TF-OE_ctrl','morph_ctrl'])]\n",
    "#ax = sns.swarmplot(x='exp2', y='purity_max', data=tst2, color=\"red\")\n",
    "plt.ylabel('maximal purity (%)',fontsize=16)\n",
    "plt.xlabel('')\n",
    "plt.xticks(fontsize=16)\n",
    "plt.yticks([0,1],[0,1],fontsize=14)\n",
    "plt.savefig(\"figures/seurat_integration_purity_seuratclusters_final_label_nodots.png\",dpi=350,bbox_inches='tight',pad_inches=0)\n",
    "plt.savefig(\"figures/seurat_integration_purity_seuratclusters_final_label_nodots.pdf\",dpi=350,bbox_inches='tight',pad_inches=0)\n",
    "plt.show()\n"
   ]
  },
  {
   "cell_type": "code",
   "execution_count": 19,
   "id": "629491b1-b5ea-4f88-8f25-d5b93884a25a",
   "metadata": {},
   "outputs": [
    {
     "name": "stderr",
     "output_type": "stream",
     "text": [
      "/links/groups/treutlein/USERS/jjans/mambaforge/envs/py_jjans_3.10_ML/lib/python3.10/site-packages/seaborn/categorical.py:3370: UserWarning: 5.2% of the points cannot be placed; you may want to decrease the size of the markers or use stripplot.\n",
      "  warnings.warn(msg, UserWarning)\n"
     ]
    },
    {
     "data": {
      "image/png": "[encoded data removed]",
      "text/plain": [
       "<Figure size 640x480 with 1 Axes>"
      ]
     },
     "metadata": {},
     "output_type": "display_data"
    }
   ],
   "source": [
    "# Usual boxplot\n",
    "ax = sns.boxplot(x='exp',y='purity_max',data=tst)\n",
    " \n",
    "# Add jitter with the swarmplot function\n",
    "ax = sns.swarmplot(x='exp', y='purity_max', data=tst, color=\"grey\")\n",
    "plt.show()\n"
   ]
  },
  {
   "cell_type": "code",
   "execution_count": 21,
   "id": "ccff20a6-5128-4e6a-9f68-d920e63a67b7",
   "metadata": {},
   "outputs": [
    {
     "data": {
      "text/plain": [
       "label_TLX2       631\n",
       "label_MSX1       358\n",
       "label_TCF7L1     218\n",
       "label_TCF7L2     194\n",
       "label_NEUROD1    163\n",
       "label_NFATC1     155\n",
       "label_LHX9       130\n",
       "label_LEF1       107\n",
       "label_PHOX2B      50\n",
       "label_EGFP       247\n",
       "dtype: int64"
      ]
     },
     "execution_count": 21,
     "metadata": {},
     "output_type": "execute_result"
    }
   ],
   "source": [
    "cond_summary_oe.sum()"
   ]
  },
  {
   "cell_type": "code",
   "execution_count": 47,
   "id": "c1dca477-dc44-4a5f-bf7d-87e227f1ee92",
   "metadata": {},
   "outputs": [
    {
     "data": {
      "text/plain": [
       "exp\n",
       "morph         191\n",
       "TF-OE           9\n",
       "TF-OE_ctrl      1\n",
       "morph_ctrl      1\n",
       "Name: count, dtype: int64"
      ]
     },
     "execution_count": 47,
     "metadata": {},
     "output_type": "execute_result"
    }
   ],
   "source": [
    "tst['exp'].value_counts()"
   ]
  },
  {
   "cell_type": "code",
   "execution_count": null,
   "id": "64edf08f-bc2a-4823-b43a-1a65a0ba4fbd",
   "metadata": {},
   "outputs": [],
   "source": []
  },
  {
   "cell_type": "code",
   "execution_count": null,
   "id": "ca1bfa7e-7904-48b3-a17d-238297280579",
   "metadata": {},
   "outputs": [],
   "source": []
  }
 ],
 "metadata": {
  "kernelspec": {
   "display_name": "py_jjans_3.10_ML",
   "language": "python",
   "name": "py_jjans_3.10_ml"
  },
  "language_info": {
   "codemirror_mode": {
    "name": "ipython",
    "version": 3
   },
   "file_extension": ".py",
   "mimetype": "text/x-python",
   "name": "python",
   "nbconvert_exporter": "python",
   "pygments_lexer": "ipython3",
   "version": "3.10.12"
  }
 },
 "nbformat": 4,
 "nbformat_minor": 5
}
