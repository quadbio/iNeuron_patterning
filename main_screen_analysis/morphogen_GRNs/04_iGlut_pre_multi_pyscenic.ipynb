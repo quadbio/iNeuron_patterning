{
 "cells": [
  {
   "cell_type": "code",
   "execution_count": 1,
   "id": "31784ca8-c3db-439d-9635-f30f3c471ebd",
   "metadata": {},
   "outputs": [],
   "source": [
    "import os\n",
    "os.environ[\"HDF5_USE_FILE_LOCKING\"] = \"FALSE\""
   ]
  },
  {
   "cell_type": "code",
   "execution_count": 2,
   "id": "a4374eff-ef52-4921-b5ad-e315e6af6abf",
   "metadata": {},
   "outputs": [],
   "source": [
    "# import dependencies\n",
    "import os\n",
    "import numpy as np\n",
    "import pandas as pd\n",
    "import scanpy as sc\n",
    "import loompy as lp\n",
    "from MulticoreTSNE import MulticoreTSNE as TSNE\n"
   ]
  },
  {
   "cell_type": "code",
   "execution_count": 3,
   "id": "3267d8a6-c28b-4ccd-8039-b2a0a472d812",
   "metadata": {},
   "outputs": [],
   "source": [
    "from resource import getrlimit, setrlimit, RLIMIT_NPROC"
   ]
  },
  {
   "cell_type": "code",
   "execution_count": 4,
   "id": "f2df0abe-a44e-43ac-9282-eb0c7c5eb11d",
   "metadata": {},
   "outputs": [
    {
     "data": {
      "text/plain": [
       "6"
      ]
     },
     "execution_count": 4,
     "metadata": {},
     "output_type": "execute_result"
    }
   ],
   "source": [
    "RLIMIT_NPROC"
   ]
  },
  {
   "cell_type": "code",
   "execution_count": 5,
   "id": "6ecb9717-15d4-4049-b945-975360e62416",
   "metadata": {},
   "outputs": [],
   "source": [
    "import resource\n",
    "resource.setrlimit(resource.RLIMIT_NPROC, (16384, 16384))"
   ]
  },
  {
   "cell_type": "code",
   "execution_count": 6,
   "id": "51dc450c-e74b-4165-839d-ffc805562fc7",
   "metadata": {
    "tags": []
   },
   "outputs": [
    {
     "name": "stdout",
     "output_type": "stream",
     "text": [
      "-----\n",
      "anndata     0.8.0\n",
      "scanpy      1.9.2\n",
      "-----\n",
      "MulticoreTSNE       NA\n",
      "PIL                 9.4.0\n",
      "asttokens           NA\n",
      "backcall            0.2.0\n",
      "beta_ufunc          NA\n",
      "binom_ufunc         NA\n",
      "cffi                1.15.1\n",
      "cloudpickle         2.2.1\n",
      "colorama            0.4.6\n",
      "comm                0.1.2\n",
      "cycler              0.10.0\n",
      "cython_runtime      NA\n",
      "cytoolz             0.12.1\n",
      "dask                2023.2.0\n",
      "dateutil            2.8.2\n",
      "debugpy             1.6.6\n",
      "decorator           5.1.1\n",
      "executing           1.2.0\n",
      "h5py                3.8.0\n",
      "hypergeom_ufunc     NA\n",
      "invgauss_ufunc      NA\n",
      "ipykernel           6.21.2\n",
      "jedi                0.18.2\n",
      "jinja2              3.1.2\n",
      "joblib              1.2.0\n",
      "kiwisolver          1.4.4\n",
      "llvmlite            0.39.1\n",
      "loompy              3.0.7\n",
      "markupsafe          2.1.2\n",
      "matplotlib          3.7.0\n",
      "mpl_toolkits        NA\n",
      "natsort             8.2.0\n",
      "nbinom_ufunc        NA\n",
      "ncf_ufunc           NA\n",
      "nct_ufunc           NA\n",
      "ncx2_ufunc          NA\n",
      "numba               0.56.4\n",
      "numexpr             2.8.4\n",
      "numpy               1.23.5\n",
      "numpy_groupies      0.9.20\n",
      "packaging           23.0\n",
      "pandas              1.5.3\n",
      "parso               0.8.3\n",
      "pexpect             4.8.0\n",
      "pickleshare         0.7.5\n",
      "pkg_resources       NA\n",
      "platformdirs        3.0.0\n",
      "prompt_toolkit      3.0.36\n",
      "psutil              5.9.4\n",
      "ptyprocess          0.7.0\n",
      "pure_eval           0.2.2\n",
      "pyarrow             11.0.0\n",
      "pycparser           2.21\n",
      "pydev_ipython       NA\n",
      "pydevconsole        NA\n",
      "pydevd              2.9.5\n",
      "pydevd_file_utils   NA\n",
      "pydevd_plugins      NA\n",
      "pydevd_tracing      NA\n",
      "pygments            2.14.0\n",
      "pyparsing           3.0.9\n",
      "pytz                2022.7.1\n",
      "scipy               1.10.0\n",
      "session_info        1.0.0\n",
      "setuptools          67.3.2\n",
      "six                 1.16.0\n",
      "skewnorm_ufunc      NA\n",
      "sklearn             1.2.1\n",
      "stack_data          0.6.2\n",
      "tblib               1.7.0\n",
      "threadpoolctl       3.1.0\n",
      "tlz                 0.12.1\n",
      "toolz               0.12.0\n",
      "tornado             6.2\n",
      "traitlets           5.9.0\n",
      "typing_extensions   NA\n",
      "wcwidth             0.2.6\n",
      "yaml                6.0\n",
      "zmq                 25.0.0\n",
      "zoneinfo            NA\n",
      "-----\n",
      "IPython             8.10.0\n",
      "jupyter_client      8.0.3\n",
      "jupyter_core        5.2.0\n",
      "-----\n",
      "Python 3.10.9 | packaged by conda-forge | (main, Feb  2 2023, 20:20:04) [GCC 11.3.0]\n",
      "Linux-3.10.0-1160.81.1.el7.x86_64-x86_64-with-glibc2.17\n",
      "-----\n",
      "Session information updated at 2023-05-02 17:07\n"
     ]
    }
   ],
   "source": [
    "sc.settings.verbosity = 3 # verbosity: errors (0), warnings (1), info (2), hints (3)\n",
    "sc.logging.print_versions()\n",
    "sc.set_figure_params(dpi=150, fontsize=10, dpi_save=600)\n",
    "# Set maximum number of jobs for Scanpy.\n",
    "sc.settings.njobs = 30"
   ]
  },
  {
   "cell_type": "code",
   "execution_count": 7,
   "id": "eca598b5-b197-45f6-a49e-5b772b87c2cb",
   "metadata": {},
   "outputs": [],
   "source": [
    "sample = 'iGlut_pre'\n",
    "adata = sc.read_h5ad(\"scanpy/\"+sample+\"_dr_clustered_raw_merged.h5ad\")\n",
    "meta = pd.read_csv(\"scanpy/\"+sample+\"_dr_clustered_raw_merged_meta.tsv\",sep=\"\\t\",index_col=0)"
   ]
  },
  {
   "cell_type": "code",
   "execution_count": 8,
   "id": "3e67ed4b-6a7b-4037-9043-63fdd0cb6727",
   "metadata": {},
   "outputs": [],
   "source": [
    "import seaborn as sns\n",
    "import matplotlib.pyplot as plt"
   ]
  },
  {
   "cell_type": "code",
   "execution_count": 9,
   "id": "3de138c5-a757-4f8b-a4b0-39e9fa7d59ec",
   "metadata": {},
   "outputs": [],
   "source": [
    "import os\n",
    "import glob\n",
    "import pickle\n",
    "import pandas as pd\n",
    "import numpy as np\n",
    "\n",
    "from dask.diagnostics import ProgressBar\n",
    "\n",
    "from arboreto.utils import load_tf_names\n",
    "from arboreto.algo import grnboost2\n",
    "\n",
    "from ctxcore.rnkdb import FeatherRankingDatabase as RankingDatabase\n",
    "from pyscenic.utils import modules_from_adjacencies, load_motifs\n",
    "from pyscenic.prune import prune2df, df2regulons\n",
    "from pyscenic.aucell import aucell\n",
    "\n",
    "import seaborn as sns\n",
    "\n",
    "DATA_FOLDER=\"~/tmp\"\n",
    "DATABASE_FOLDER = \"/home/jjanssens/jjans/resources/resources.aertslab.org/cistarget/databases/homo_sapiens/hg38/refseq_r80/mc_v10_clust/gene_based\"\n",
    "DATABASES_GLOB = os.path.join(DATABASE_FOLDER, \"*.genes_vs_motifs.rankings.feather\")\n",
    "MOTIF_ANNOTATIONS_FNAME = '/home/jjanssens/jjans/resources/resources.aertslab.org/cistarget/motif2tf/motifs-v10nr_clust-nr.hgnc-m0.001-o0.0.tbl'\n",
    "HG_TFS_FNAME = '/home/jjanssens/jjans/resources/resources.aertslab.org/cistarget/tf_lists/allTFs_hg38.txt'\n",
    "\n",
    "\n"
   ]
  },
  {
   "cell_type": "code",
   "execution_count": 10,
   "id": "b60a72c6-ff94-4b8b-9bea-5381a4590d1b",
   "metadata": {},
   "outputs": [],
   "source": [
    "#load TF names\n",
    "tf_names = load_tf_names(HG_TFS_FNAME)"
   ]
  },
  {
   "cell_type": "code",
   "execution_count": 11,
   "id": "8efbb22e-6b5f-4bf3-9c25-4618b320ad5a",
   "metadata": {},
   "outputs": [
    {
     "data": {
      "text/plain": [
       "[FeatherRankingDatabase(name=\"hg38_10kbp_up_10kbp_down_full_tx_v10_clust.genes_vs_motifs.rankings\"),\n",
       " FeatherRankingDatabase(name=\"hg38_500bp_up_100bp_down_full_tx_v10_clust.genes_vs_motifs.rankings\")]"
      ]
     },
     "execution_count": 11,
     "metadata": {},
     "output_type": "execute_result"
    }
   ],
   "source": [
    "#load databases\n",
    "db_fnames = glob.glob(DATABASES_GLOB)\n",
    "def name(fname):\n",
    "    return os.path.splitext(os.path.basename(fname))[0]\n",
    "dbs = [RankingDatabase(fname=fname, name=name(fname)) for fname in db_fnames]\n",
    "dbs"
   ]
  },
  {
   "cell_type": "code",
   "execution_count": 12,
   "id": "fa6bf477-3540-4655-9a10-d4aa8c0816b3",
   "metadata": {},
   "outputs": [],
   "source": [
    "adata.obs['CellID'] = adata.obs.index"
   ]
  },
  {
   "cell_type": "code",
   "execution_count": 13,
   "id": "1fde9c14-2c10-4bce-b811-ba5fa9fd8799",
   "metadata": {},
   "outputs": [
    {
     "data": {
      "text/plain": [
       "Index(['sample', 'species', 'gene_count', 'tscp_count', 'mread_count',\n",
       "       'bc1_well', 'bc2_well', 'bc3_well', 'bc1_wind', 'bc2_wind', 'bc3_wind',\n",
       "       'n_genes_by_counts', 'log1p_n_genes_by_counts', 'total_counts',\n",
       "       'log1p_total_counts', 'pct_counts_in_top_20_genes', 'total_counts_mt',\n",
       "       'log1p_total_counts_mt', 'pct_counts_mt', 'total_counts_ribo',\n",
       "       'log1p_total_counts_ribo', 'pct_counts_ribo', 'n_genes', 'percent_mito',\n",
       "       'n_counts', 'outlier', 'mt_outlier', 'doublet_score',\n",
       "       'predicted_doublet', 'leiden_4', 'leiden_10', 'merged_clusters_from_10',\n",
       "       'plateID', 'parse_id', 'AP_axis', 'DV_axis', 'Basal_media',\n",
       "       'final_clustering', 'CycA', 'M_XAV', 'M_CHIR', 'M_RA', 'M_FGF8',\n",
       "       'M_BMP4', 'M_SHH', 'M_PM', 'tSNE_1', 'tSNE_2', 'umap_1', 'umap_2'],\n",
       "      dtype='object')"
      ]
     },
     "execution_count": 13,
     "metadata": {},
     "output_type": "execute_result"
    }
   ],
   "source": [
    "meta.columns"
   ]
  },
  {
   "cell_type": "code",
   "execution_count": 14,
   "id": "48d972a2-3873-481b-a0f0-22cdaa45e2f9",
   "metadata": {},
   "outputs": [
    {
     "name": "stdout",
     "output_type": "stream",
     "text": [
      "mkdir: cannot create directory 'pyscenic/iGlut_pre': File exists\n"
     ]
    }
   ],
   "source": [
    "!mkdir pyscenic/{sample}"
   ]
  },
  {
   "cell_type": "code",
   "execution_count": null,
   "id": "b839c7f0-6c06-40a4-9639-ef04216b3def",
   "metadata": {},
   "outputs": [],
   "source": [
    "for i in range(1,21):\n",
    "    import random\n",
    "    random.seed(i)\n",
    "\n",
    "    subset_cells = list(meta.groupby(\"final_clustering\").sample(n=100,replace=True,random_state=i).index)\n",
    "    subset_cells = list(set(subset_cells))\n",
    "\n",
    "    adata_subset = adata[adata.obs['CellID'].isin(subset_cells)].copy()\n",
    "\n",
    "    dgem = pd.DataFrame.sparse.from_spmatrix(adata_subset.X)\n",
    "    dgem.index = adata_subset.obs.index\n",
    "    dgem.columns = adata_subset.var_names\n",
    "\n",
    "    tf_names = [x for x in tf_names if x in dgem.columns]\n",
    "\n",
    "\n",
    "    from threadpoolctl import threadpool_info\n",
    "\n",
    "    import pandas as pd\n",
    "    from arboreto.utils import load_tf_names\n",
    "    from arboreto.algo import grnboost2\n",
    "    from distributed import LocalCluster, Client\n",
    "\n",
    "    if __name__ == '__main__':\n",
    "        # create custom LocalCluster and Client instances\n",
    "        local_cluster = LocalCluster(n_workers=30,\n",
    "                                     threads_per_worker=2,\n",
    "                                     memory_limit=8e9)\n",
    "        custom_client = Client(local_cluster)\n",
    "\n",
    "        # load the data\n",
    "\n",
    "        # run GRN inference multiple times\n",
    "        adjacencies = grnboost2(expression_data=dgem,\n",
    "                                tf_names=tf_names,\n",
    "                                client_or_address=custom_client,\n",
    "                                seed=i,\n",
    "                                verbose=True)\n",
    "\n",
    "        # close the Client and LocalCluster after use\n",
    "        custom_client.close()\n",
    "        local_cluster.close()\n",
    "\n",
    "    with open('pyscenic/'+sample+'/adjacenies_'+str(i)+'.p', \"wb\") as f:\n",
    "        pickle.dump(adjacencies, f)\n",
    "\n",
    "    modules = list(modules_from_adjacencies(adjacencies, dgem))\n",
    "\n",
    "    with open('pyscenic/'+sample+'/modules_'+str(i)+'.p', \"wb\") as f:\n",
    "        pickle.dump(modules, f)\n",
    "\n",
    "    # Calculate a list of enriched motifs and the corresponding target genes for all modules.\n",
    "    with ProgressBar():\n",
    "        df = prune2df(dbs, modules, MOTIF_ANNOTATIONS_FNAME)\n",
    "\n",
    "\n",
    "    # Save the enriched motifs and the discovered regulons to disk.\n",
    "    df.to_csv('pyscenic/'+sample+'/table_enriched_motifs_'+str(i)+'.csv')\n",
    "    with open('pyscenic/'+sample+'/table_enriched_motifs_'+str(i)+'.p', \"wb\") as f:\n",
    "        pickle.dump(df, f)\n",
    "\n",
    "    # Create regulons from this table of enriched motifs.\n",
    "    regulons = df2regulons(df)\n",
    "\n",
    "    with open('pyscenic/'+sample+'/regulons_'+str(i)+'.p', \"wb\") as f:\n",
    "        pickle.dump(regulons, f)\n"
   ]
  },
  {
   "cell_type": "code",
   "execution_count": 82,
   "id": "9ca5cf19-d119-4f2e-9493-1e2ee84d9829",
   "metadata": {},
   "outputs": [
    {
     "data": {
      "text/plain": [
       "323"
      ]
     },
     "execution_count": 82,
     "metadata": {},
     "output_type": "execute_result"
    }
   ],
   "source": [
    "len(regulons)"
   ]
  },
  {
   "cell_type": "code",
   "execution_count": 85,
   "id": "f6ebefb2-891d-4327-a995-6231aa13f92d",
   "metadata": {},
   "outputs": [],
   "source": [
    "auc_mtx = aucell(dgem, regulons, num_workers=15)\n"
   ]
  },
  {
   "cell_type": "code",
   "execution_count": 86,
   "id": "3dba01f6-63d4-44bb-8ed3-8d57a47defb9",
   "metadata": {},
   "outputs": [],
   "source": [
    "with open('pyscenic/auc_mtx.p', \"wb\") as f:\n",
    "    pickle.dump(auc_mtx, f)"
   ]
  },
  {
   "cell_type": "code",
   "execution_count": 91,
   "id": "20881818-d556-42aa-a2ca-d667ac2d72b8",
   "metadata": {},
   "outputs": [],
   "source": [
    "dgem_all = pd.DataFrame.sparse.from_spmatrix(adata.X)\n",
    "dgem_all.index = adata.obs.index\n",
    "dgem_all.columns = adata.var_names"
   ]
  },
  {
   "cell_type": "code",
   "execution_count": 92,
   "id": "b67583a7-749c-4b95-a023-ce77f4dac0c5",
   "metadata": {},
   "outputs": [],
   "source": [
    "auc_mtx_all = aucell(dgem_all, regulons, num_workers=15)\n",
    "with open('pyscenic/auc_mtx_all.p', \"wb\") as f:\n",
    "    pickle.dump(auc_mtx_all, f)"
   ]
  },
  {
   "cell_type": "code",
   "execution_count": null,
   "id": "1b87d186-d3f0-4a6f-8510-c024f1f43e8f",
   "metadata": {},
   "outputs": [],
   "source": []
  },
  {
   "cell_type": "code",
   "execution_count": 94,
   "id": "7f78fa59-b361-4fe5-b145-30f869c459d4",
   "metadata": {},
   "outputs": [],
   "source": [
    "from pyscenic.rss import regulon_specificity_scores\n",
    "from pyscenic.plotting import plot_rss\n",
    "import matplotlib.pyplot as plt\n",
    "import seaborn as sns\n",
    "from pyscenic.binarization import binarize"
   ]
  },
  {
   "cell_type": "code",
   "execution_count": 104,
   "id": "5e0b73a5-f734-48e3-bd09-a7a6a4e28024",
   "metadata": {},
   "outputs": [],
   "source": [
    "meta = meta.loc[auc_mtx_all.index]"
   ]
  },
  {
   "cell_type": "code",
   "execution_count": 105,
   "id": "70b61ca2-3ceb-4995-84b6-59aaa9809dc6",
   "metadata": {},
   "outputs": [],
   "source": [
    "rss_louvain = regulon_specificity_scores( auc_mtx_all, meta['leiden_10'] )"
   ]
  },
  {
   "cell_type": "code",
   "execution_count": 112,
   "id": "5abfe81a-c338-448f-ae79-12d181095c21",
   "metadata": {},
   "outputs": [],
   "source": [
    "rss_louvain.to_csv(\"pyscenic/rss.tsv\",sep=\"\\t\")"
   ]
  },
  {
   "cell_type": "code",
   "execution_count": null,
   "id": "f136404e",
   "metadata": {},
   "outputs": [],
   "source": []
  }
 ],
 "metadata": {
  "kernelspec": {
   "display_name": "pyscenic",
   "language": "python",
   "name": "pyscenic"
  },
  "language_info": {
   "codemirror_mode": {
    "name": "ipython",
    "version": 3
   },
   "file_extension": ".py",
   "mimetype": "text/x-python",
   "name": "python",
   "nbconvert_exporter": "python",
   "pygments_lexer": "ipython3",
   "version": "3.10.9"
  }
 },
 "nbformat": 4,
 "nbformat_minor": 5
}
